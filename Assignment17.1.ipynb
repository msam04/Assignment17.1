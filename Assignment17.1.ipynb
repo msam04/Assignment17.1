{
 "cells": [
  {
   "cell_type": "code",
   "execution_count": 20,
   "metadata": {},
   "outputs": [
    {
     "name": "stdout",
     "output_type": "stream",
     "text": [
      "<class 'pandas.core.frame.DataFrame'>\n",
      "Int64Index: 183 entries, 1 to 889\n",
      "Data columns (total 7 columns):\n",
      "Survived    183 non-null int64\n",
      "Pclass      183 non-null int64\n",
      "Sex         183 non-null object\n",
      "Age         183 non-null float64\n",
      "SibSp       183 non-null int64\n",
      "Parch       183 non-null int64\n",
      "Fare        183 non-null float64\n",
      "dtypes: float64(2), int64(4), object(1)\n",
      "memory usage: 11.4+ KB\n",
      "None\n",
      "[1 0]\n",
      "['female' 'male']\n",
      "Cross validation score with 5 fold cross validation:  0.805952380952381\n",
      "             precision    recall  f1-score   support\n",
      "\n",
      "       Died       0.50      0.71      0.59         7\n",
      "   Survived       0.92      0.83      0.87        29\n",
      "\n",
      "avg / total       0.84      0.81      0.82        36\n",
      "\n",
      "precision: [0.80555556 0.92307692 1.        ], recall: [1.         0.82758621 0.        ], threshold: [0 1]\n",
      "average_precision_score:  0.9028146183318597\n"
     ]
    },
    {
     "data": {
      "image/png": "[encoded data removed]",
      "text/plain": [
       "<matplotlib.figure.Figure at 0xb74f550>"
      ]
     },
     "metadata": {},
     "output_type": "display_data"
    }
   ],
   "source": [
    "#Loading​ ​Data​ ​and​ ​modules\n",
    "import numpy as np\n",
    "import pandas as pd\n",
    "import seaborn as sb\n",
    "import matplotlib.pyplot as plt\n",
    "import sklearn\n",
    "from pandas import Series, DataFrame\n",
    "from pylab import rcParams\n",
    "from sklearn import preprocessing\n",
    "from sklearn.linear_model import LogisticRegression\n",
    "from sklearn.cross_validation import train_test_split\n",
    "from sklearn import metrics\n",
    "from sklearn.metrics import classification_report\n",
    "from sklearn.cross_validation import cross_val_score\n",
    "from sklearn.metrics import precision_recall_curve\n",
    "from sklearn.metrics import average_precision_score\n",
    "url = \"https://raw.githubusercontent.com/BigDataGal/Python-for-Data-Science/master/titanic-train.csv\"\n",
    "titanic = pd.read_csv(url)\n",
    "titanic.columns = \\\n",
    "['PassengerId','Survived','Pclass','Name','Sex','Age','SibSp','Parch','Ticket','Fare','Cabin','Embarked']\n",
    "\n",
    "#Dropping na values\n",
    "titanic = titanic.dropna()\n",
    "#Dropping unneccessary columns\n",
    "\n",
    "titanic.drop(['PassengerId', 'Name', 'Ticket', 'Cabin','Embarked'], axis = 1, inplace = True)\n",
    "print(titanic.info())\n",
    "print(titanic['Survived'].unique())\n",
    "print(titanic['Sex'].unique())\n",
    "\n",
    "\n",
    "titanic['Sex'] = titanic['Sex'].map({'male': 0, 'female': 1})\n",
    "\n",
    "pd.crosstab(titanic['Sex'],titanic['Survived']).plot(kind='bar')\n",
    "plt.title('Gender vs Survival')\n",
    "plt.xlabel('Gender')\n",
    "plt.ylabel('Frequency for Survival')\n",
    "plt.savefig('Gender vs Survival')\n",
    "\n",
    "\n",
    "#Store the labels separately\n",
    "survived = titanic['Survived']\n",
    "titanic.drop('Survived', axis = 1, inplace = True)\n",
    "\n",
    "scaler = preprocessing.StandardScaler().fit(titanic)\n",
    "titanic_scaled = scaler.transform(titanic)\n",
    "\n",
    "train_x, test_x, train_y, test_y = train_test_split(titanic_scaled, survived, test_size = titanic.shape[0] //5, random_state = 0)\n",
    "\n",
    "lgr = LogisticRegression()\n",
    "model = lgr.fit(train_x, train_y)\n",
    "pred_y = lgr.predict(test_x)\n",
    "\n",
    "print(\"Cross validation score with 5 fold cross validation: \", cross_val_score(lgr, test_x, test_y, cv = 5).mean())\n",
    "\n",
    "target_names = ['Died', 'Survived']\n",
    "print(classification_report(test_y, pred_y, target_names=target_names))\n",
    "precision, recall, threshold = precision_recall_curve(test_y, pred_y)\n",
    "print(\"precision: {}, recall: {}, threshold: {}\".format(precision  ,recall, threshold))\n",
    "print(\"average_precision_score: \", average_precision_score(test_y, pred_y))      \n",
    "\n"
   ]
  },
  {
   "cell_type": "code",
   "execution_count": null,
   "metadata": {},
   "outputs": [],
   "source": []
  }
 ],
 "metadata": {
  "kernelspec": {
   "display_name": "Python 3",
   "language": "python",
   "name": "python3"
  },
  "language_info": {
   "codemirror_mode": {
    "name": "ipython",
    "version": 3
   },
   "file_extension": ".py",
   "mimetype": "text/x-python",
   "name": "python",
   "nbconvert_exporter": "python",
   "pygments_lexer": "ipython3",
   "version": "3.6.4"
  }
 },
 "nbformat": 4,
 "nbformat_minor": 2
}
